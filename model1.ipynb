{
 "cells": [
  {
   "cell_type": "markdown",
   "id": "aa833ce9",
   "metadata": {},
   "source": [
    "# Starter notebook: stacked ensemble for price prediction\n",
    "\n",
    "This notebook loads the provided training data, performs lightweight feature engineering (TF-IDF on `catalog_content`, text length and an image flag), and trains a small stacking ensemble using scikit-learn.\n",
    "\n",
    "Goal: provide a reproducible baseline you can iterate on toward a high R^2 (or other metric)."
   ]
  },
  {
   "cell_type": "code",
   "execution_count": 2,
   "id": "1afaf33e",
   "metadata": {},
   "outputs": [
    {
     "name": "stdout",
     "output_type": "stream",
     "text": [
      "pandas 2.2.2\n",
      "train path: train.csv\n",
      "train shape: (75000, 4)\n",
      "test shape: (75000, 3)\n",
      "train shape: (75000, 4)\n",
      "test shape: (75000, 3)\n"
     ]
    },
    {
     "data": {
      "text/html": [
       "<div>\n",
       "<style scoped>\n",
       "    .dataframe tbody tr th:only-of-type {\n",
       "        vertical-align: middle;\n",
       "    }\n",
       "\n",
       "    .dataframe tbody tr th {\n",
       "        vertical-align: top;\n",
       "    }\n",
       "\n",
       "    .dataframe thead th {\n",
       "        text-align: right;\n",
       "    }\n",
       "</style>\n",
       "<table border=\"1\" class=\"dataframe\">\n",
       "  <thead>\n",
       "    <tr style=\"text-align: right;\">\n",
       "      <th></th>\n",
       "      <th>sample_id</th>\n",
       "      <th>catalog_content</th>\n",
       "      <th>image_link</th>\n",
       "      <th>price</th>\n",
       "    </tr>\n",
       "  </thead>\n",
       "  <tbody>\n",
       "    <tr>\n",
       "      <th>0</th>\n",
       "      <td>33127</td>\n",
       "      <td>Item Name: La Victoria Green Taco Sauce Mild, ...</td>\n",
       "      <td>https://m.media-amazon.com/images/I/51mo8htwTH...</td>\n",
       "      <td>4.89</td>\n",
       "    </tr>\n",
       "    <tr>\n",
       "      <th>1</th>\n",
       "      <td>198967</td>\n",
       "      <td>Item Name: Salerno Cookies, The Original Butte...</td>\n",
       "      <td>https://m.media-amazon.com/images/I/71YtriIHAA...</td>\n",
       "      <td>13.12</td>\n",
       "    </tr>\n",
       "  </tbody>\n",
       "</table>\n",
       "</div>"
      ],
      "text/plain": [
       "   sample_id                                    catalog_content  \\\n",
       "0      33127  Item Name: La Victoria Green Taco Sauce Mild, ...   \n",
       "1     198967  Item Name: Salerno Cookies, The Original Butte...   \n",
       "\n",
       "                                          image_link  price  \n",
       "0  https://m.media-amazon.com/images/I/51mo8htwTH...   4.89  \n",
       "1  https://m.media-amazon.com/images/I/71YtriIHAA...  13.12  "
      ]
     },
     "execution_count": 2,
     "metadata": {},
     "output_type": "execute_result"
    }
   ],
   "source": [
    "# Imports and load data\n",
    "import numpy as np\n",
    "import pandas as pd\n",
    "from pathlib import Path\n",
    "print('pandas', pd.__version__)\n",
    "# Use explicit Windows-style raw paths as requested\n",
    "train_path = r'train.csv'\n",
    "test_path = r'test.csv'\n",
    "print('train path:', train_path)\n",
    "train_df = pd.read_csv(train_path)\n",
    "test_df = pd.read_csv(test_path)\n",
    "print('train shape:', train_df.shape)\n",
    "print('test shape:', test_df.shape)\n",
    "train_df.head(2)\n"
   ]
  },
  {
   "cell_type": "markdown",
   "id": "f9b29223",
   "metadata": {},
   "source": [
    "## Quick EDA and feature plan\n",
    "\n",
    "We have columns like `sample_id`, `catalog_content`, `image_link`, and `price` (target). We'll extract:\n",
    "- TF-IDF features from `catalog_content` (reduced with TruncatedSVD)\n",
    "- text length and token count\n",
    "- `image_present` flag from `image_link`\n",
    "\n",
    "We'll train a stacked ensemble of tree-based models and a linear blender. For speed in this notebook we'll sample a subset — remove the sampling for full training."
   ]
  },
  {
   "cell_type": "code",
   "execution_count": 4,
   "id": "9023a26c",
   "metadata": {},
   "outputs": [
    {
     "name": "stdout",
     "output_type": "stream",
     "text": [
      "X shape: (75000, 25)\n"
     ]
    }
   ],
   "source": [
    "# Feature engineering\n",
    "from sklearn.feature_extraction.text import TfidfVectorizer\n",
    "from sklearn.decomposition import TruncatedSVD\n",
    "from sklearn.model_selection import train_test_split, KFold, cross_val_score\n",
    "from sklearn.pipeline import make_pipeline\n",
    "from sklearn.preprocessing import StandardScaler\n",
    "from sklearn.ensemble import RandomForestRegressor, HistGradientBoostingRegressor, StackingRegressor\n",
    "from sklearn.linear_model import RidgeCV\n",
    "import warnings\n",
    "warnings.filterwarnings('ignore')\n",
    "\n",
    "# Use train_df for feature engineering\n",
    "df = train_df.copy()\n",
    "\n",
    "# Basic features\n",
    "df['text'] = df['catalog_content'].fillna('')\n",
    "df['text_len'] = df['text'].str.len().fillna(0).astype(int)\n",
    "df['text_words'] = df['text'].str.split().apply(len)\n",
    "df['image_present'] = df['image_link'].notna().astype(int)\n",
    "\n",
    "# TF-IDF features\n",
    "tfidf = TfidfVectorizer(max_features=200)\n",
    "tfidf_matrix = tfidf.fit_transform(df['text'])\n",
    "svd = TruncatedSVD(n_components=20, random_state=42)\n",
    "tfidf_reduced = svd.fit_transform(tfidf_matrix)\n",
    "\n",
    "# Assemble feature matrix with additional features\n",
    "df['avg_word_len'] = df['text'].apply(lambda x: np.mean([len(w) for w in x.split()]) if x.split() else 0)\n",
    "df['num_unique_words'] = df['text'].apply(lambda x: len(set(x.split())))\n",
    "X_meta = df[['text_len', 'text_words', 'image_present', 'avg_word_len', 'num_unique_words']].values\n",
    "X = np.hstack([X_meta, tfidf_reduced])\n",
    "y = df['price'].values\n",
    "print('X shape:', X.shape)\n"
   ]
  },
  {
   "cell_type": "markdown",
   "id": "207b2e33",
   "metadata": {},
   "source": [
    "## Quick stacked ensemble (baseline)\n",
    "\n",
    "We'll train a few fast regressors and stack them. This is a baseline — for higher performance (R^2 ~0.95) you'll likely need more sophisticated text modeling (pretrained transformers), image features, richer feature engineering, and careful tuning."
   ]
  },
  {
   "cell_type": "code",
   "execution_count": 5,
   "id": "91e3b03b",
   "metadata": {},
   "outputs": [],
   "source": [
    "# Define base estimators and stacking regressor\n",
    "estimators = [\n",
    "    ('rf', RandomForestRegressor(n_estimators=50, n_jobs=-1, random_state=42)),\n",
    "    ('hgb', HistGradientBoostingRegressor(max_iter=50, random_state=42))\n",
    "]\n",
    "\n",
    "stack = StackingRegressor(\n",
    "    estimators=estimators,\n",
    "    final_estimator=RidgeCV(),\n",
    "    cv=KFold(n_splits=5, shuffle=True, random_state=42),\n",
    "    n_jobs=-1\n",
    ")"
   ]
  },
  {
   "cell_type": "code",
   "execution_count": 6,
   "id": "4b764792",
   "metadata": {},
   "outputs": [
    {
     "name": "stdout",
     "output_type": "stream",
     "text": [
      "Running CV (this may take a few minutes) ...\n",
      "RMSE (cv): 30.631137012279112 +/- 2.3106595468257662\n",
      "R2  (cv): 0.1550495631346321 +/- 0.0157754077469822\n",
      "RMSE (cv): 30.631137012279112 +/- 2.3106595468257662\n",
      "R2  (cv): 0.1550495631346321 +/- 0.0157754077469822\n",
      "Fitted stacking model on provided data subset.\n",
      "Fitted stacking model on provided data subset.\n"
     ]
    }
   ],
   "source": [
    "# Cross-validated evaluation of the stacking pipeline (on the prepared features)\n",
    "from sklearn.model_selection import cross_validate, KFold\n",
    "scoring = {'rmse':'neg_root_mean_squared_error','r2':'r2'}\n",
    "cv = KFold(n_splits=3, shuffle=True, random_state=42)\n",
    "print('Running CV (this may take a few minutes) ...')\n",
    "scores = cross_validate(stack, X, y, scoring=scoring, cv=cv, n_jobs=-1, return_train_score=False)\n",
    "print('RMSE (cv):', -scores['test_rmse'].mean(), '+/-', scores['test_rmse'].std())\n",
    "print('R2  (cv):', scores['test_r2'].mean(), '+/-', scores['test_r2'].std())\n",
    "# Fit stacking model on the (sampled) dataset used here\n",
    "stack.fit(X, y)\n",
    "print('Fitted stacking model on provided data subset.')"
   ]
  },
  {
   "cell_type": "code",
   "execution_count": 7,
   "id": "907dbfce",
   "metadata": {},
   "outputs": [
    {
     "name": "stdout",
     "output_type": "stream",
     "text": [
      "X_test shape: (75000, 25)\n",
      "Saved stack_preds.csv with 75000 rows\n",
      "Saved stack_preds.csv with 75000 rows\n"
     ]
    }
   ],
   "source": [
    "# Prepare test set features using the same transformations\n",
    "test = test_df.copy()\n",
    "test['text'] = test['catalog_content'].fillna('')\n",
    "test['text_len'] = test['text'].str.len().fillna(0).astype(int)\n",
    "test['text_words'] = test['text'].str.split().apply(len)\n",
    "test['image_present'] = test['image_link'].notna().astype(int)\n",
    "test['avg_word_len'] = test['text'].apply(lambda x: np.mean([len(w) for w in x.split()]) if x.split() else 0)\n",
    "test['num_unique_words'] = test['text'].apply(lambda x: len(set(x.split())))\n",
    "# TF-IDF transform and SVD projection (use fitted tfidf and svd objects)\n",
    "tfidf_test = tfidf.transform(test['text'])\n",
    "tfidf_test_reduced = svd.transform(tfidf_test)\n",
    "X_test_meta = test[['text_len','text_words','image_present','avg_word_len','num_unique_words']].values\n",
    "X_test = np.hstack([X_test_meta, tfidf_test_reduced])\n",
    "print('X_test shape:', X_test.shape)\n",
    "# Predict with the trained stack\n",
    "preds = stack.predict(X_test)\n",
    "# Save predictions to CSV\n",
    "out = pd.DataFrame({'sample_id': test['sample_id'], 'predicted_price': preds})\n",
    "out.to_csv('stack_preds.csv', index=False)\n",
    "print('Saved stack_preds.csv with', len(out), 'rows')"
   ]
  },
  {
   "cell_type": "code",
   "execution_count": 8,
   "id": "06cf7dc6",
   "metadata": {},
   "outputs": [
    {
     "name": "stdout",
     "output_type": "stream",
     "text": [
      "Top importances for RandomForest:\n",
      "  svd_8           0.0694\n",
      "  svd_1           0.0582\n",
      "  avg_word_len    0.0534\n",
      "  svd_0           0.0517\n",
      "  svd_3           0.0495\n",
      "  svd_15          0.0491\n",
      "  svd_12          0.0445\n",
      "  svd_17          0.0440\n",
      "  svd_14          0.0428\n",
      "  svd_18          0.0404\n",
      "  svd_9           0.0394\n",
      "  text_words      0.0394\n",
      "  svd_4           0.0388\n",
      "  num_unique_words 0.0380\n",
      "  text_len        0.0374\n",
      "Could not get importances for HistGradientBoosting: 'HistGradientBoostingRegressor' object has no attribute 'feature_importances_'\n"
     ]
    },
    {
     "data": {
      "text/html": [
       "<div>\n",
       "<style scoped>\n",
       "    .dataframe tbody tr th:only-of-type {\n",
       "        vertical-align: middle;\n",
       "    }\n",
       "\n",
       "    .dataframe tbody tr th {\n",
       "        vertical-align: top;\n",
       "    }\n",
       "\n",
       "    .dataframe thead th {\n",
       "        text-align: right;\n",
       "    }\n",
       "</style>\n",
       "<table border=\"1\" class=\"dataframe\">\n",
       "  <thead>\n",
       "    <tr style=\"text-align: right;\">\n",
       "      <th></th>\n",
       "      <th>sample_id</th>\n",
       "      <th>predicted_price</th>\n",
       "    </tr>\n",
       "  </thead>\n",
       "  <tbody>\n",
       "    <tr>\n",
       "      <th>0</th>\n",
       "      <td>100179</td>\n",
       "      <td>15.359119</td>\n",
       "    </tr>\n",
       "    <tr>\n",
       "      <th>1</th>\n",
       "      <td>245611</td>\n",
       "      <td>22.753240</td>\n",
       "    </tr>\n",
       "    <tr>\n",
       "      <th>2</th>\n",
       "      <td>146263</td>\n",
       "      <td>18.431793</td>\n",
       "    </tr>\n",
       "    <tr>\n",
       "      <th>3</th>\n",
       "      <td>95658</td>\n",
       "      <td>30.589896</td>\n",
       "    </tr>\n",
       "    <tr>\n",
       "      <th>4</th>\n",
       "      <td>36806</td>\n",
       "      <td>22.559080</td>\n",
       "    </tr>\n",
       "  </tbody>\n",
       "</table>\n",
       "</div>"
      ],
      "text/plain": [
       "   sample_id  predicted_price\n",
       "0     100179        15.359119\n",
       "1     245611        22.753240\n",
       "2     146263        18.431793\n",
       "3      95658        30.589896\n",
       "4      36806        22.559080"
      ]
     },
     "metadata": {},
     "output_type": "display_data"
    }
   ],
   "source": [
    "# Feature importances from base estimators (where available)\n",
    "feature_names = ['text_len','text_words','image_present','avg_word_len','num_unique_words'] + [f'svd_{i}' for i in range(tfidf_reduced.shape[1])]\n",
    "# Access fitted base estimators from the stacking regressor\n",
    "rf = stack.named_estimators_.get('rf')\n",
    "hgb = stack.named_estimators_.get('hgb')\n",
    "\n",
    "def print_top_importances(model, name):\n",
    "    try:\n",
    "        imps = model.feature_importances_\n",
    "        idx = np.argsort(imps)[::-1][:15]\n",
    "        print(f'Top importances for {name}:')\n",
    "        for i in idx:\n",
    "            print(f'  {feature_names[i]:<15} {imps[i]:.4f}')\n",
    "    except Exception as e:\n",
    "        print(f'Could not get importances for {name}:', e)\n",
    "\n",
    "print_top_importances(rf, 'RandomForest')\n",
    "print_top_importances(hgb, 'HistGradientBoosting')\n",
    "\n",
    "# Show a few sample predictions\n",
    "display(out.head())"
   ]
  },
  {
   "cell_type": "code",
   "execution_count": 9,
   "id": "7728df7a",
   "metadata": {},
   "outputs": [
    {
     "name": "stdout",
     "output_type": "stream",
     "text": [
      "Saved model to stack_model.joblib\n"
     ]
    }
   ],
   "source": [
    "# Save the trained stacking model for later use\n",
    "import joblib\n",
    "joblib.dump(stack, 'stack_model.joblib')\n",
    "print('Saved model to stack_model.joblib')"
   ]
  },
  {
   "cell_type": "code",
   "execution_count": 10,
   "id": "5e65e493",
   "metadata": {},
   "outputs": [
    {
     "name": "stdout",
     "output_type": "stream",
     "text": [
      "In-sample RMSE: 18.084385166599745\n",
      "In-sample R2 approx: 0.7064240638703383\n"
     ]
    }
   ],
   "source": [
    "# Diagnostic: training set predictions (in-sample) and residual overview\n",
    "train_preds = stack.predict(X)\n",
    "residuals = y - train_preds\n",
    "print('In-sample RMSE:', np.sqrt(np.mean(residuals**2)))\n",
    "print('In-sample R2 approx:', 1 - np.sum(residuals**2)/np.sum((y - np.mean(y))**2))"
   ]
  },
  {
   "cell_type": "code",
   "execution_count": 16,
   "id": "c182ffb0",
   "metadata": {},
   "outputs": [
    {
     "name": "stdout",
     "output_type": "stream",
     "text": [
      "SMAPE: 48.06425491126116\n"
     ]
    }
   ],
   "source": [
    "import numpy as np\n",
    "\n",
    "def smape(y_true, y_pred):\n",
    "    return 100 * np.mean(2 * np.abs(y_pred - y_true) / (np.abs(y_true) + np.abs(y_pred)))\n",
    "\n",
    "# Example using training set predictions:\n",
    "y_true = y\n",
    "y_pred = train_preds\n",
    "smape_value = smape(y_true, y_pred)\n",
    "print(\"SMAPE:\", smape_value)\n"
   ]
  },
  {
   "cell_type": "code",
   "execution_count": 11,
   "id": "b314a430",
   "metadata": {},
   "outputs": [
    {
     "data": {
      "image/png": "[encoded data removed]",
      "text/plain": [
       "<Figure size 640x480 with 1 Axes>"
      ]
     },
     "metadata": {},
     "output_type": "display_data"
    }
   ],
   "source": [
    "# Quick check: distribution of predicted prices (test)\n",
    "import matplotlib.pyplot as plt\n",
    "plt.hist(preds, bins=50)\n",
    "plt.title('Predicted price distribution (test)')\n",
    "plt.show()"
   ]
  },
  {
   "cell_type": "code",
   "execution_count": 12,
   "id": "832abe18",
   "metadata": {},
   "outputs": [
    {
     "name": "stdout",
     "output_type": "stream",
     "text": [
      "Saved stack_preds_sample50.csv\n"
     ]
    }
   ],
   "source": [
    "# Save sample of predictions to a smaller CSV for quick review\n",
    "out.head(50).to_csv('stack_preds_sample50.csv', index=False)\n",
    "print('Saved stack_preds_sample50.csv')"
   ]
  },
  {
   "cell_type": "code",
   "execution_count": 13,
   "id": "ce5f9868",
   "metadata": {},
   "outputs": [
    {
     "name": "stdout",
     "output_type": "stream",
     "text": [
      "Notebook run complete. Review CV metrics and saved artifacts (stack_preds.csv, stack_model.joblib).\n"
     ]
    }
   ],
   "source": [
    "# Final note: consider training on the full dataset (remove any .sample()) and running a hyperparameter search\n",
    "print('Notebook run complete. Review CV metrics and saved artifacts (stack_preds.csv, stack_model.joblib).')"
   ]
  }
 ],
 "metadata": {
  "kernelspec": {
   "display_name": "Python 3",
   "language": "python",
   "name": "python3"
  },
  "language_info": {
   "codemirror_mode": {
    "name": "ipython",
    "version": 3
   },
   "file_extension": ".py",
   "mimetype": "text/x-python",
   "name": "python",
   "nbconvert_exporter": "python",
   "pygments_lexer": "ipython3",
   "version": "3.12.4"
  }
 },
 "nbformat": 4,
 "nbformat_minor": 5
}
